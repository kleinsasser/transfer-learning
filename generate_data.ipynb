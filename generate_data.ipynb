{
 "cells": [
  {
   "cell_type": "markdown",
   "source": [
    "## Create a Dataset of Intermediate Features from ResNet"
   ],
   "metadata": {}
  },
  {
   "cell_type": "code",
   "execution_count": 24,
   "source": [
    "import numpy as np\n",
    "import os\n",
    "\n",
    "import torch\n",
    "import torchvision\n",
    "import torchvision.models as models\n",
    "from torchinfo import summary"
   ],
   "outputs": [],
   "metadata": {}
  },
  {
   "cell_type": "markdown",
   "source": [
    "## Get CIFAR-100 Dataset"
   ],
   "metadata": {}
  },
  {
   "cell_type": "code",
   "execution_count": 25,
   "source": [
    "transforms = torchvision.transforms.Compose([\n",
    "    torchvision.transforms.Resize((224,224)),\n",
    "    torchvision.transforms.ToTensor(),\n",
    "    torchvision.transforms.Normalize(mean=[0.485, 0.456, 0.406], std=[0.229, 0.224, 0.225])\n",
    "])\n",
    "\n",
    "data = torchvision.datasets.CIFAR100('.', download=True, train=False, transform=transforms)"
   ],
   "outputs": [
    {
     "output_type": "stream",
     "name": "stdout",
     "text": [
      "Files already downloaded and verified\n"
     ]
    }
   ],
   "metadata": {}
  },
  {
   "cell_type": "markdown",
   "source": [
    "## Get Pre-Trained ResNet"
   ],
   "metadata": {}
  },
  {
   "cell_type": "code",
   "execution_count": 26,
   "source": [
    "resnet50 = models.resnet50(pretrained=True, progress=True)\n",
    "\n",
    "X = []\n",
    "y = []\n",
    "\n",
    "def get_activation(self, input, output):\n",
    "    X.append(input[0].detach().squeeze().numpy())\n",
    "resnet50.fc.register_forward_hook(get_activation)\n",
    "\n",
    "count = 0\n",
    "print('Looping')\n",
    "for d in iter(data):\n",
    "    sample, label = d\n",
    "    sample = torch.unsqueeze(sample, 0)\n",
    "\n",
    "    resnet50.forward(sample)\n",
    "    y.append(label)\n",
    "\n",
    "print('Converting')\n",
    "X = np.array(X)\n",
    "y = np.array(y)\n",
    "\n",
    "print(X.shape)\n",
    "print(y.shape)\n",
    "\n",
    "np.save('X_test.npy', X)\n",
    "np.save('y_test.npy', y)"
   ],
   "outputs": [
    {
     "output_type": "stream",
     "name": "stdout",
     "text": [
      "Looping\n",
      "Converting\n",
      "(10000, 2048)\n",
      "(10000,)\n"
     ]
    }
   ],
   "metadata": {}
  }
 ],
 "metadata": {
  "orig_nbformat": 4,
  "language_info": {
   "name": "python",
   "version": "3.9.4",
   "mimetype": "text/x-python",
   "codemirror_mode": {
    "name": "ipython",
    "version": 3
   },
   "pygments_lexer": "ipython3",
   "nbconvert_exporter": "python",
   "file_extension": ".py"
  },
  "kernelspec": {
   "name": "python3",
   "display_name": "Python 3.9.4 64-bit"
  },
  "interpreter": {
   "hash": "aee8b7b246df8f9039afb4144a1f6fd8d2ca17a180786b69acc140d282b71a49"
  }
 },
 "nbformat": 4,
 "nbformat_minor": 2
}