{
 "cells": [
  {
   "cell_type": "code",
   "execution_count": 14,
   "metadata": {},
   "outputs": [],
   "source": [
    "import numpy as np\n",
    "\n",
    "from sklearn.neighbors import KNeighborsClassifier as KNN\n",
    "from sklearn.ensemble import GradientBoostingClassifier as GBC\n",
    "from sklearn.naive_bayes import GaussianNB as GNB\n",
    "from sklearn.neural_network import MLPClassifier as MLP\n",
    "from sklearn.linear_model import SGDClassifier as SVM\n",
    "\n",
    "from sklearn.preprocessing import MinMaxScaler\n",
    "\n",
    "from sklearn.metrics import accuracy_score\n",
    "from sklearn.metrics import top_k_accuracy_score\n",
    "\n",
    "from matplotlib import pyplot as plt"
   ]
  },
  {
   "cell_type": "code",
   "execution_count": 15,
   "metadata": {},
   "outputs": [],
   "source": [
    "X_train, y_train = np.load('resnetdata/X_train.npy'), np.load('resnetdata/y_train.npy')\n",
    "X_test, y_test = np.load('resnetdata/X_test.npy'), np.load('resnetdata/y_test.npy')"
   ]
  },
  {
   "cell_type": "markdown",
   "metadata": {},
   "source": [
    "## Naive Bayes"
   ]
  },
  {
   "cell_type": "code",
   "execution_count": 3,
   "metadata": {},
   "outputs": [],
   "source": [
    "# Train\n",
    "gnb = GNB().fit(X_train, y_train)"
   ]
  },
  {
   "cell_type": "code",
   "execution_count": 4,
   "metadata": {},
   "outputs": [
    {
     "name": "stdout",
     "output_type": "stream",
     "text": [
      "Naive Bayes\n",
      "Top 1 Accuracy:  0.3134\n",
      "Top 5 Accuracy:  0.5844\n",
      "Top 10 Accuracy:  0.7016\n"
     ]
    }
   ],
   "source": [
    "# Evaluate\n",
    "gnb_scores = gnb.predict_proba(X_test)\n",
    "\n",
    "gnb_top1_acc = top_k_accuracy_score(y_test, gnb_scores, k=1)\n",
    "gnb_top5_acc = top_k_accuracy_score(y_test, gnb_scores, k=5)\n",
    "gnb_top10_acc = top_k_accuracy_score(y_test, gnb_scores, k=10)\n",
    "\n",
    "print('Naive Bayes')\n",
    "print('Top 1 Accuracy: ', gnb_top1_acc)\n",
    "print('Top 5 Accuracy: ', gnb_top5_acc)\n",
    "print('Top 10 Accuracy: ', gnb_top10_acc)"
   ]
  },
  {
   "cell_type": "markdown",
   "metadata": {},
   "source": [
    "## K Nearest Neighbors"
   ]
  },
  {
   "cell_type": "code",
   "execution_count": 13,
   "metadata": {},
   "outputs": [],
   "source": [
    "# Train\n",
    "knn = KNN(n_neighbors=1000).fit(X_train, y_train)"
   ]
  },
  {
   "cell_type": "code",
   "execution_count": 12,
   "metadata": {},
   "outputs": [
    {
     "name": "stdout",
     "output_type": "stream",
     "text": [
      "K Nearest Neighbors\n",
      "Top 1 Accuracy:  0.2432\n",
      "Top 5 Accuracy:  0.4737\n",
      "Top 10 Accuracy:  0.5897\n"
     ]
    }
   ],
   "source": [
    "# Evaluate\n",
    "knn_scores = knn.predict_proba(X_test)\n",
    "\n",
    "knn_top1_acc = top_k_accuracy_score(y_test, knn_scores, k=1)\n",
    "knn_top5_acc = top_k_accuracy_score(y_test, knn_scores, k=5)\n",
    "knn_top10_acc = top_k_accuracy_score(y_test, knn_scores, k=10)\n",
    "\n",
    "print('K Nearest Neighbors')\n",
    "print('Top 1 Accuracy: ', knn_top1_acc)\n",
    "print('Top 5 Accuracy: ', knn_top5_acc)\n",
    "print('Top 10 Accuracy: ', knn_top10_acc)"
   ]
  },
  {
   "cell_type": "markdown",
   "metadata": {},
   "source": [
    "# SVM\n"
   ]
  },
  {
   "cell_type": "code",
   "execution_count": 32,
   "metadata": {},
   "outputs": [
    {
     "data": {
      "text/plain": [
       "SGDClassifier()"
      ]
     },
     "execution_count": 32,
     "metadata": {},
     "output_type": "execute_result"
    }
   ],
   "source": [
    "svm = SVM( fit_intercept=True, early_stopping=False)\n",
    "svm.fit(X_train, y_train)"
   ]
  },
  {
   "cell_type": "code",
   "execution_count": 34,
   "metadata": {},
   "outputs": [
    {
     "name": "stdout",
     "output_type": "stream",
     "text": [
      "Accuracy: 0.1419\n"
     ]
    }
   ],
   "source": [
    "# Evaluate\n",
    "svm_preds = svm.predict(X_test)\n",
    "\n",
    "print('Accuracy:', accuracy_score(svm_preds, y_test))"
   ]
  },
  {
   "cell_type": "markdown",
   "metadata": {},
   "source": [
    "# Single-Layer Neural Network"
   ]
  },
  {
   "cell_type": "code",
   "execution_count": 33,
   "metadata": {},
   "outputs": [
    {
     "name": "stderr",
     "output_type": "stream",
     "text": [
      "/Library/Frameworks/Python.framework/Versions/3.9/lib/python3.9/site-packages/sklearn/neural_network/_multilayer_perceptron.py:614: ConvergenceWarning: Stochastic Optimizer: Maximum iterations (200) reached and the optimization hasn't converged yet.\n",
      "  warnings.warn(\n"
     ]
    }
   ],
   "source": [
    "mlp = MLP(hidden_layer_sizes=(), activation='logistic', max_iter=800).fit(X_train[:], y_train[:])"
   ]
  },
  {
   "cell_type": "code",
   "execution_count": 35,
   "metadata": {},
   "outputs": [
    {
     "name": "stdout",
     "output_type": "stream",
     "text": [
      "Neural Network\n",
      "Top 1 Accuracy:  0.6352\n",
      "Top 5 Accuracy:  0.88916\n",
      "Top 10 Accuracy:  0.94508\n"
     ]
    }
   ],
   "source": [
    "# Evaluate\n",
    "mlp_scores = mlp.predict_proba(X_test)\n",
    "\n",
    "mlp_top1_acc = top_k_accuracy_score(y_test, mlp_scores, k=1)\n",
    "mlp_top5_acc = top_k_accuracy_score(y_test, mlp_scores, k=5)\n",
    "mlp_top10_acc = top_k_accuracy_score(y_test, mlp_scores, k=10)\n",
    "\n",
    "print('Neural Network')\n",
    "print('Top 1 Accuracy: ', mlp_top1_acc)\n",
    "print('Top 5 Accuracy: ', mlp_top5_acc)\n",
    "print('Top 10 Accuracy: ', mlp_top10_acc)"
   ]
  }
 ],
 "metadata": {
  "interpreter": {
   "hash": "aee8b7b246df8f9039afb4144a1f6fd8d2ca17a180786b69acc140d282b71a49"
  },
  "kernelspec": {
   "display_name": "Python 3.9.4 64-bit",
   "name": "python3"
  },
  "language_info": {
   "codemirror_mode": {
    "name": "ipython",
    "version": 3
   },
   "file_extension": ".py",
   "mimetype": "text/x-python",
   "name": "python",
   "nbconvert_exporter": "python",
   "pygments_lexer": "ipython3",
   "version": "3.9.4"
  },
  "orig_nbformat": 4
 },
 "nbformat": 4,
 "nbformat_minor": 2
}
