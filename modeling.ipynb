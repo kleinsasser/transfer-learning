{
 "cells": [
  {
   "cell_type": "code",
   "execution_count": 1,
   "metadata": {},
   "outputs": [],
   "source": [
    "import numpy as np\n",
    "\n",
    "from sklearn.neighbors import KNeighborsClassifier as KNN\n",
    "from sklearn.ensemble import GradientBoostingClassifier as GBC\n",
    "from sklearn.naive_bayes import GaussianNB as GNB\n",
    "from sklearn.neural_network import MLPClassifier as MLP\n",
    "\n",
    "from sklearn.preprocessing import MinMaxScaler\n",
    "\n",
    "from sklearn.metrics import accuracy_score\n",
    "from sklearn.metrics import top_k_accuracy_score\n",
    "\n",
    "from matplotlib import pyplot as plt"
   ]
  },
  {
   "cell_type": "code",
   "execution_count": 27,
   "metadata": {},
   "outputs": [
    {
     "name": "stdout",
     "output_type": "stream",
     "text": [
      "0.46259552 0.09991747\n",
      "0.46255434 0.09991565\n",
      "0.4899469 0.13628608\n",
      "0.48976305 0.13620056\n"
     ]
    }
   ],
   "source": [
    "X_train, y_train = np.load('data/X_train.npy'), np.load('data/y_train.npy')\n",
    "X_test, y_test = np.load('data/X_test.npy'), np.load('data/y_test.npy')\n",
    "\n",
    "scaler = MinMaxScaler()\n",
    "scaler.fit(X_train)\n",
    "scaler.fit(X_test)\n",
    "\n",
    "X_train = scaler.transform(X_train)\n",
    "X_test = scaler.transform (X_test)"
   ]
  },
  {
   "cell_type": "markdown",
   "metadata": {},
   "source": [
    "## Naive Bayes"
   ]
  },
  {
   "cell_type": "code",
   "execution_count": 67,
   "metadata": {},
   "outputs": [],
   "source": [
    "# Train\n",
    "gnb = GNB().fit(X_train, y_train)"
   ]
  },
  {
   "cell_type": "code",
   "execution_count": 73,
   "metadata": {},
   "outputs": [
    {
     "name": "stdout",
     "output_type": "stream",
     "text": [
      "Naive Bayes\n",
      "Top 1 Accuracy:  0.3134\n",
      "Top 5 Accuracy:  0.5844\n",
      "Top 10 Accuracy:  0.7016\n"
     ]
    }
   ],
   "source": [
    "# Evaluate\n",
    "gnb_scores = gnb.predict_proba(X_test)\n",
    "\n",
    "gnb_top1_acc = top_k_accuracy_score(y_test, gnb_scores, k=1)\n",
    "gnb_top5_acc = top_k_accuracy_score(y_test, gnb_scores, k=5)\n",
    "gnb_top10_acc = top_k_accuracy_score(y_test, gnb_scores, k=10)\n",
    "\n",
    "print('Naive Bayes')\n",
    "print('Top 1 Accuracy: ', gnb_top1_acc)\n",
    "print('Top 5 Accuracy: ', gnb_top5_acc)\n",
    "print('Top 10 Accuracy: ', gnb_top10_acc)"
   ]
  },
  {
   "cell_type": "markdown",
   "metadata": {},
   "source": [
    "## K Nearest Neighbors"
   ]
  },
  {
   "cell_type": "code",
   "execution_count": 69,
   "metadata": {},
   "outputs": [],
   "source": [
    "# Train\n",
    "knn = KNN(n_neighbors=1000).fit(X_train, y_train)"
   ]
  },
  {
   "cell_type": "code",
   "execution_count": 72,
   "metadata": {},
   "outputs": [
    {
     "name": "stdout",
     "output_type": "stream",
     "text": [
      "Naive Bayes\n",
      "Top 1 Accuracy:  0.2502\n",
      "Top 5 Accuracy:  0.5047\n",
      "Top 10 Accuracy:  0.6293\n"
     ]
    }
   ],
   "source": [
    "# Evaluate\n",
    "knn_scores = knn.predict_proba(X_test)\n",
    "\n",
    "knn_top1_acc = top_k_accuracy_score(y_test, knn_scores, k=1)\n",
    "knn_top5_acc = top_k_accuracy_score(y_test, knn_scores, k=5)\n",
    "knn_top10_acc = top_k_accuracy_score(y_test, knn_scores, k=10)\n",
    "\n",
    "print('K Nearest Neighbors')\n",
    "print('Top 1 Accuracy: ', knn_top1_acc)\n",
    "print('Top 5 Accuracy: ', knn_top5_acc)\n",
    "print('Top 10 Accuracy: ', knn_top10_acc)"
   ]
  },
  {
   "cell_type": "markdown",
   "metadata": {},
   "source": [
    "# Gradient Boosting Machine (takes super long, don't recommend)"
   ]
  },
  {
   "cell_type": "code",
   "execution_count": 12,
   "metadata": {},
   "outputs": [],
   "source": [
    "# Train\n",
    "gbc = GBC(n_estimators=5, max_depth=10, max_features=20).fit(X_train[:10000], y_train[:10000])"
   ]
  },
  {
   "cell_type": "code",
   "execution_count": 13,
   "metadata": {},
   "outputs": [
    {
     "name": "stdout",
     "output_type": "stream",
     "text": [
      "Gradient Boosting Machine\n",
      "Top 1 Accuracy:  0.0187\n",
      "Top 5 Accuracy:  0.0872\n",
      "Top 10 Accuracy:  0.1631\n"
     ]
    }
   ],
   "source": [
    "# Evaluate\n",
    "gbc_scores = gbc.predict_proba(X_test)\n",
    "\n",
    "gbc_top1_acc = top_k_accuracy_score(y_test, gbc_scores, k=1)\n",
    "gbc_top5_acc = top_k_accuracy_score(y_test, gbc_scores, k=5)\n",
    "gbc_top10_acc = top_k_accuracy_score(y_test, gbc_scores, k=10)\n",
    "\n",
    "print('Gradient Boosting Machine')\n",
    "print('Top 1 Accuracy: ', gbc_top1_acc)\n",
    "print('Top 5 Accuracy: ', gbc_top5_acc)\n",
    "print('Top 10 Accuracy: ', gbc_top10_acc)"
   ]
  },
  {
   "cell_type": "markdown",
   "metadata": {},
   "source": [
    "# Single-Layer Neural Network"
   ]
  },
  {
   "cell_type": "code",
   "execution_count": 33,
   "metadata": {},
   "outputs": [
    {
     "name": "stderr",
     "output_type": "stream",
     "text": [
      "/Library/Frameworks/Python.framework/Versions/3.9/lib/python3.9/site-packages/sklearn/neural_network/_multilayer_perceptron.py:614: ConvergenceWarning: Stochastic Optimizer: Maximum iterations (200) reached and the optimization hasn't converged yet.\n",
      "  warnings.warn(\n"
     ]
    }
   ],
   "source": [
    "mlp = MLP(hidden_layer_sizes=(), activation='logistic', max_iter=800).fit(X_train[:], y_train[:])"
   ]
  },
  {
   "cell_type": "code",
   "execution_count": 35,
   "metadata": {},
   "outputs": [
    {
     "name": "stdout",
     "output_type": "stream",
     "text": [
      "Neural Network\n",
      "Top 1 Accuracy:  0.6352\n",
      "Top 5 Accuracy:  0.88916\n",
      "Top 10 Accuracy:  0.94508\n"
     ]
    }
   ],
   "source": [
    "# Evaluate\n",
    "mlp_scores = mlp.predict_proba(X_test)\n",
    "\n",
    "mlp_top1_acc = top_k_accuracy_score(y_test, mlp_scores, k=1)\n",
    "mlp_top5_acc = top_k_accuracy_score(y_test, mlp_scores, k=5)\n",
    "mlp_top10_acc = top_k_accuracy_score(y_test, mlp_scores, k=10)\n",
    "\n",
    "print('Neural Network')\n",
    "print('Top 1 Accuracy: ', mlp_top1_acc)\n",
    "print('Top 5 Accuracy: ', mlp_top5_acc)\n",
    "print('Top 10 Accuracy: ', mlp_top10_acc)"
   ]
  }
 ],
 "metadata": {
  "interpreter": {
   "hash": "aee8b7b246df8f9039afb4144a1f6fd8d2ca17a180786b69acc140d282b71a49"
  },
  "kernelspec": {
   "display_name": "Python 3.9.4 64-bit",
   "name": "python3"
  },
  "language_info": {
   "codemirror_mode": {
    "name": "ipython",
    "version": 3
   },
   "file_extension": ".py",
   "mimetype": "text/x-python",
   "name": "python",
   "nbconvert_exporter": "python",
   "pygments_lexer": "ipython3",
   "version": "3.9.4"
  },
  "orig_nbformat": 4
 },
 "nbformat": 4,
 "nbformat_minor": 2
}
